{
 "cells": [
  {
   "cell_type": "code",
   "execution_count": 1,
   "metadata": {},
   "outputs": [],
   "source": [
    "import pandas as pd\n",
    "\n",
    "# Load data\n",
    "df = pd.read_csv('stockdata2.csv', index_col=0, parse_dates=True)\n",
    "df.index = pd.to_datetime(df['Date'])"
   ]
  },
  {
   "cell_type": "code",
   "execution_count": 2,
   "metadata": {},
   "outputs": [],
   "source": [
    "import dash\n",
    "import dash_html_components as html"
   ]
  },
  {
   "cell_type": "code",
   "execution_count": 3,
   "metadata": {},
   "outputs": [
    {
     "name": "stdout",
     "output_type": "stream",
     "text": [
      "Dash is running on http://127.0.0.1:8050/\n",
      "\n",
      " Warning: This is a development server. Do not use app.run_server\n",
      " in production, use a production WSGI server like gunicorn instead.\n",
      "\n",
      " * Serving Flask app \"__main__\" (lazy loading)\n",
      " * Environment: production\n",
      "   WARNING: This is a development server. Do not use it in a production deployment.\n",
      "   Use a production WSGI server instead.\n",
      " * Debug mode: on\n"
     ]
    }
   ],
   "source": [
    "# Initialise the app\n",
    "app = dash.Dash(__name__)\n",
    "\n",
    "# Define the app\n",
    "app.layout = html.Div()\n",
    "# Run the app\n",
    "if __name__ == '__main__':\n",
    "    #app.run_server(debug=True)\n",
    "    app.run_server(debug=True, use_reloader=False)"
   ]
  },
  {
   "cell_type": "code",
   "execution_count": 4,
   "metadata": {},
   "outputs": [],
   "source": [
    "app.layout = html.Div(children=[\n",
    "                      html.Div(className='row',  # Define the row element\n",
    "                               children=[\n",
    "                                  html.Div(className='four columns div-user-controls'),  # Define the left element\n",
    "                                  html.Div(className='eight columns div-for-charts bg-grey')  # Define the right element\n",
    "                                  ])\n",
    "                                ])"
   ]
  },
  {
   "cell_type": "code",
   "execution_count": 5,
   "metadata": {},
   "outputs": [
    {
     "name": "stdout",
     "output_type": "stream",
     "text": [
      "Dash is running on http://127.0.0.1:8050/\n",
      "\n",
      " Warning: This is a development server. Do not use app.run_server\n",
      " in production, use a production WSGI server like gunicorn instead.\n",
      "\n",
      " * Serving Flask app \"__main__\" (lazy loading)\n",
      " * Environment: production\n",
      "   WARNING: This is a development server. Do not use it in a production deployment.\n",
      "   Use a production WSGI server instead.\n",
      " * Debug mode: on\n"
     ]
    }
   ],
   "source": [
    "if __name__ == '__main__':\n",
    "    #app.run_server(debug=True)\n",
    "    app.run_server(debug=True, use_reloader=False)"
   ]
  },
  {
   "cell_type": "code",
   "execution_count": 6,
   "metadata": {},
   "outputs": [],
   "source": [
    "app.layout = html.Div(children=[\n",
    "                      html.Div(className='row',  # Define the row element\n",
    "                               children=[\n",
    "                                  html.Div(className='four columns div-user-controls'\n",
    "                                   ,children=[\n",
    "    html.H2('Dash - STOCK PRICES'),\n",
    "    html.P('''Visualising time series with Plotly - Dash'''),\n",
    "    html.P('''Pick one or more stocks from the dropdown below.''')]),# Define the left element\n",
    "                                  html.Div(className='eight columns div-for-charts bg-grey')  # Define the right element\n",
    "                                  \n",
    "                                ])])"
   ]
  },
  {
   "cell_type": "code",
   "execution_count": 7,
   "metadata": {},
   "outputs": [
    {
     "name": "stdout",
     "output_type": "stream",
     "text": [
      "Dash is running on http://127.0.0.1:8050/\n",
      "\n",
      " Warning: This is a development server. Do not use app.run_server\n",
      " in production, use a production WSGI server like gunicorn instead.\n",
      "\n",
      " * Serving Flask app \"__main__\" (lazy loading)\n",
      " * Environment: production\n",
      "   WARNING: This is a development server. Do not use it in a production deployment.\n",
      "   Use a production WSGI server instead.\n",
      " * Debug mode: on\n"
     ]
    }
   ],
   "source": [
    "if __name__ == '__main__':\n",
    "    #app.run_server(debug=True)\n",
    "    app.run_server(debug=True, use_reloader=False)"
   ]
  },
  {
   "cell_type": "code",
   "execution_count": 8,
   "metadata": {},
   "outputs": [],
   "source": [
    "\n",
    "import plotly.express as px\n",
    "import dash\n",
    "import dash_core_components as dcc\n",
    "import dash_html_components as html\n"
   ]
  },
  {
   "cell_type": "code",
   "execution_count": 12,
   "metadata": {},
   "outputs": [],
   "source": [
    "app.layout = html.Div(children=[\n",
    "                      html.Div(className='row',  # Define the row element\n",
    "                               children=[\n",
    "                                  html.Div(className='four columns div-user-controls'\n",
    "                                   ,children=[\n",
    "    html.H2('Dash - STOCK PRICES'),\n",
    "    html.P('''Visualising time series with Plotly - Dash'''),\n",
    "    html.P('''Pick one or more stocks from the dropdown below.''')]),# Define the left element\n",
    "                                  html.Div(className='eight columns div-for-charts bg-grey',children=[dcc.Graph(id='timeseries',\n",
    "          config={'displayModeBar': True},\n",
    "          animate=True,\n",
    "          figure=px.line(df,\n",
    "                         x='Date',\n",
    "                         y='value',\n",
    "                         color='stock',\n",
    "                         template='plotly_dark').update_layout(\n",
    "                                   {'plot_bgcolor': 'rgba(0, 0, 0, 0)',\n",
    "                                    'paper_bgcolor': 'rgba(0, 0, 0, 0)'})\n",
    "                                    )\n",
    "                                      # Define the right element\n",
    "                                  \n",
    "                                ])])])\n",
    "\n",
    "\n",
    "\n",
    "\n"
   ]
  },
  {
   "cell_type": "code",
   "execution_count": 13,
   "metadata": {},
   "outputs": [
    {
     "name": "stdout",
     "output_type": "stream",
     "text": [
      "Dash is running on http://127.0.0.1:8050/\n",
      "\n",
      " Warning: This is a development server. Do not use app.run_server\n",
      " in production, use a production WSGI server like gunicorn instead.\n",
      "\n",
      " * Serving Flask app \"__main__\" (lazy loading)\n",
      " * Environment: production\n",
      "   WARNING: This is a development server. Do not use it in a production deployment.\n",
      "   Use a production WSGI server instead.\n",
      " * Debug mode: on\n"
     ]
    }
   ],
   "source": [
    "if __name__ == '__main__':\n",
    "    #app.run_server(debug=True)\n",
    "    app.run_server(debug=True, use_reloader=False)"
   ]
  },
  {
   "cell_type": "code",
   "execution_count": 14,
   "metadata": {},
   "outputs": [],
   "source": [
    "# Creates a list of dictionaries, which have the keys 'label' and 'value'.\n",
    "def get_options(list_stocks):\n",
    "    dict_list = []\n",
    "    for i in list_stocks:\n",
    "        dict_list.append({'label': i, 'value': i})\n",
    "\n",
    "    return dict_list"
   ]
  },
  {
   "cell_type": "code",
   "execution_count": 15,
   "metadata": {},
   "outputs": [],
   "source": [
    "app.layout = html.Div(children=[\n",
    "                      html.Div(className='row',  # Define the row element\n",
    "                               children=[\n",
    "                                  html.Div(className='four columns div-user-controls'\n",
    "                                   ,children=[\n",
    "    html.H2('Dash - STOCK PRICES'),\n",
    "    html.P('''Visualising time series with Plotly - Dash'''),\n",
    "    html.P('''Pick one or more stocks from the dropdown below.'''),\n",
    "     html.Div(className='div-for-dropdown',\n",
    "          children=[\n",
    "              dcc.Dropdown(id='stockselector',\n",
    "                           options=get_options(df['stock'].unique()),\n",
    "                           multi=True,\n",
    "                           value=[df['stock'].sort_values()[0]],\n",
    "                           style={'backgroundColor': '#1E1E1E'},\n",
    "                           className='stockselector')\n",
    "                    ],\n",
    "          style={'color': '#1E1E1E'})\n",
    "                                       \n",
    "                                       \n",
    "                                       \n",
    "                    ]),# Define the left element\n",
    "                                   \n",
    "                                   \n",
    "                                   \n",
    "                                   \n",
    "                                  html.Div(className='eight columns div-for-charts bg-grey',children=[dcc.Graph(id='timeseries',\n",
    "          config={'displayModeBar': False},\n",
    "          animate=True,\n",
    "          figure=px.line(df,\n",
    "                         x='Date',\n",
    "                         y='value',\n",
    "                         color='stock',\n",
    "                         template='plotly_dark').update_layout(\n",
    "                                   {'plot_bgcolor': 'rgba(0, 0, 0, 0)',\n",
    "                                    'paper_bgcolor': 'rgba(0, 0, 0, 0)'})\n",
    "                                    )\n",
    "                                      # Define the right element\n",
    "                                  \n",
    "                                ])])])\n",
    "\n",
    "\n",
    "\n",
    "\n",
    "\n",
    "\n",
    "\n",
    "\n",
    "\n",
    "\n",
    "\n",
    "\n",
    "\n"
   ]
  },
  {
   "cell_type": "code",
   "execution_count": 16,
   "metadata": {},
   "outputs": [
    {
     "name": "stdout",
     "output_type": "stream",
     "text": [
      "Dash is running on http://127.0.0.1:8050/\n",
      "\n",
      " Warning: This is a development server. Do not use app.run_server\n",
      " in production, use a production WSGI server like gunicorn instead.\n",
      "\n",
      " * Serving Flask app \"__main__\" (lazy loading)\n",
      " * Environment: production\n",
      "   WARNING: This is a development server. Do not use it in a production deployment.\n",
      "   Use a production WSGI server instead.\n",
      " * Debug mode: on\n"
     ]
    }
   ],
   "source": [
    "if __name__ == '__main__':\n",
    "    #app.run_server(debug=True)\n",
    "    app.run_server(debug=True, use_reloader=False)"
   ]
  },
  {
   "cell_type": "code",
   "execution_count": 17,
   "metadata": {},
   "outputs": [],
   "source": [
    "\n",
    "\n",
    "app.layout = html.Div(children=[\n",
    "                      html.Div(className='row',  # Define the row element\n",
    "                               children=[\n",
    "                                  html.Div(className='four columns div-user-controls'\n",
    "                                   ,children=[\n",
    "    html.H2('Dash - STOCK PRICES'),\n",
    "    html.P('''Visualising time series with Plotly - Dash'''),\n",
    "    html.P('''Pick one or more stocks from the dropdown below.'''),\n",
    "     html.Div(className='div-for-dropdown',\n",
    "          children=[\n",
    "              dcc.Dropdown(id='stockselector',\n",
    "                           options=get_options(df['stock'].unique()),\n",
    "                           multi=True,\n",
    "                           value=[df['stock'].sort_values()[0]],\n",
    "                           style={'backgroundColor': '#1E1E1E'},\n",
    "                           className='stockselector')\n",
    "                    ],\n",
    "          style={'color': '#1E1E1E'})\n",
    "                                       \n",
    "                                       \n",
    "                                       \n",
    "                    ]),# Define the left element\n",
    "                                   \n",
    "                                   \n",
    "                                   \n",
    "                                   \n",
    "                                  html.Div(className='eight columns div-for-charts bg-grey',children=[dcc.Graph(id='timeseries',\n",
    "          config={'displayModeBar': False},\n",
    "          animate=True,\n",
    "          figure=px.line(df,\n",
    "                         x='Date',\n",
    "                         y='value',\n",
    "                         color='stock',\n",
    "                         template='plotly_dark').update_layout(\n",
    "                                   {'plot_bgcolor': 'rgba(0, 0, 0, 0)',\n",
    "                                    'paper_bgcolor': 'rgba(0, 0, 0, 0)'})\n",
    "                                 ),\n",
    "dcc.Graph(id='change', config={'displayModeBar': False})\n",
    "\n",
    "\n",
    "                                      # Define the right element\n",
    "                                  \n",
    "                                ])])])\n",
    "\n",
    "\n"
   ]
  },
  {
   "cell_type": "code",
   "execution_count": 18,
   "metadata": {},
   "outputs": [
    {
     "name": "stdout",
     "output_type": "stream",
     "text": [
      "Dash is running on http://127.0.0.1:8050/\n",
      "\n",
      " Warning: This is a development server. Do not use app.run_server\n",
      " in production, use a production WSGI server like gunicorn instead.\n",
      "\n",
      " * Serving Flask app \"__main__\" (lazy loading)\n",
      " * Environment: production\n",
      "   WARNING: This is a development server. Do not use it in a production deployment.\n",
      "   Use a production WSGI server instead.\n",
      " * Debug mode: on\n"
     ]
    }
   ],
   "source": [
    "if __name__ == '__main__':\n",
    "    #app.run_server(debug=True)\n",
    "    app.run_server(debug=True, use_reloader=False)"
   ]
  },
  {
   "cell_type": "code",
   "execution_count": null,
   "metadata": {},
   "outputs": [],
   "source": []
  },
  {
   "cell_type": "code",
   "execution_count": null,
   "metadata": {},
   "outputs": [],
   "source": [
    "#Interactions(Callbacks)"
   ]
  },
  {
   "cell_type": "code",
   "execution_count": 19,
   "metadata": {},
   "outputs": [],
   "source": [
    "from dash.dependencies import Input, Output\n",
    "import plotly.graph_objs as go"
   ]
  },
  {
   "cell_type": "code",
   "execution_count": 20,
   "metadata": {},
   "outputs": [],
   "source": [
    "app.layout = html.Div(children=[\n",
    "                      html.Div(className='row',  # Define the row element\n",
    "                               children=[\n",
    "                                  html.Div(className='four columns div-user-controls'\n",
    "                                   ,children=[\n",
    "    html.H2('Dash - STOCK PRICES'),\n",
    "    html.P('''Visualising time series with Plotly - Dash'''),\n",
    "    html.P('''Pick one or more stocks from the dropdown below.'''),\n",
    "     html.Div(className='div-for-dropdown',\n",
    "          children=[\n",
    "              dcc.Dropdown(id='stockselector',\n",
    "                           options=get_options(df['stock'].unique()),\n",
    "                           multi=True,\n",
    "                           value=[df['stock'].sort_values()[0]],\n",
    "                           style={'backgroundColor': '#1E1E1E'},\n",
    "                           className='stockselector')\n",
    "                    ],\n",
    "          style={'color': '#1E1E1E'})\n",
    "                                       \n",
    "                                       \n",
    "                                       \n",
    "                    ]),# Define the left element\n",
    "                                   \n",
    "                                   \n",
    "                                   \n",
    "                                   \n",
    "                                  html.Div(className='eight columns div-for-charts bg-grey',children=[dcc.Graph(id='timeseries',\n",
    "          config={'displayModeBar': False}\n",
    "                                 ),\n",
    "dcc.Graph(id='change', config={'displayModeBar': False})\n",
    "\n",
    "\n",
    "                                      # Define the right element\n",
    "                                  \n",
    "                                ])])])\n",
    "\n",
    "\n"
   ]
  },
  {
   "cell_type": "code",
   "execution_count": 21,
   "metadata": {},
   "outputs": [
    {
     "name": "stdout",
     "output_type": "stream",
     "text": [
      "Dash is running on http://127.0.0.1:8050/\n",
      "\n",
      " Warning: This is a development server. Do not use app.run_server\n",
      " in production, use a production WSGI server like gunicorn instead.\n",
      "\n",
      " * Serving Flask app \"__main__\" (lazy loading)\n",
      " * Environment: production\n",
      "   WARNING: This is a development server. Do not use it in a production deployment.\n",
      "   Use a production WSGI server instead.\n",
      " * Debug mode: on\n"
     ]
    }
   ],
   "source": [
    "if __name__ == '__main__':\n",
    "    #app.run_server(debug=True)\n",
    "    app.run_server(debug=True, use_reloader=False)"
   ]
  },
  {
   "cell_type": "code",
   "execution_count": 22,
   "metadata": {},
   "outputs": [],
   "source": [
    "@app.callback(Output('timeseries', 'figure'),\n",
    "              [Input('stockselector', 'value')])\n",
    "def update_timeseries(selected_dropdown_value):\n",
    "    ''' Draw traces of the feature 'value' based one the currently selected stocks '''\n",
    "    # STEP 1\n",
    "    trace = []  \n",
    "    df_sub = df\n",
    "    # STEP 2\n",
    "    # Draw and append traces for each stock\n",
    "    for stock in selected_dropdown_value:   \n",
    "        trace.append(go.Scatter(x=df_sub[df_sub['stock'] == stock].index,\n",
    "                                 y=df_sub[df_sub['stock'] == stock]['value'],\n",
    "                                 mode='lines',\n",
    "                                 opacity=0.7,\n",
    "                                 name=stock,\n",
    "                                 textposition='bottom center'))  \n",
    "    # STEP 3\n",
    "    traces = [trace]\n",
    "    data = [val for sublist in traces for val in sublist]\n",
    "    # Define Figure\n",
    "    # STEP 4\n",
    "    figure = {'data': data,\n",
    "              'layout': go.Layout(\n",
    "                  colorway=[\"#5E0DAC\", '#FF4F00', '#375CB1', '#FF7400', '#FFF400', '#FF0056'],\n",
    "                  template='plotly_dark',\n",
    "                  paper_bgcolor='rgba(0, 0, 0, 0)',\n",
    "                  plot_bgcolor='rgba(0, 0, 0, 0)',\n",
    "                  margin={'b': 15},\n",
    "                  hovermode='x',\n",
    "                  autosize=True,\n",
    "                  title={'text': 'Stock Prices', 'font': {'color': 'white'}, 'x': 0.5},\n",
    "                  xaxis={'range': [df_sub.index.min(), df_sub.index.max()]},\n",
    "              ),\n",
    "\n",
    "              }\n",
    "\n",
    "    return figure"
   ]
  },
  {
   "cell_type": "code",
   "execution_count": 23,
   "metadata": {},
   "outputs": [
    {
     "name": "stdout",
     "output_type": "stream",
     "text": [
      "Dash is running on http://127.0.0.1:8050/\n",
      "\n",
      " Warning: This is a development server. Do not use app.run_server\n",
      " in production, use a production WSGI server like gunicorn instead.\n",
      "\n",
      " * Serving Flask app \"__main__\" (lazy loading)\n",
      " * Environment: production\n",
      "   WARNING: This is a development server. Do not use it in a production deployment.\n",
      "   Use a production WSGI server instead.\n",
      " * Debug mode: on\n"
     ]
    }
   ],
   "source": [
    "if __name__ == '__main__':\n",
    "    #app.run_server(debug=True)\n",
    "    app.run_server(debug=True, use_reloader=False)"
   ]
  },
  {
   "cell_type": "code",
   "execution_count": 24,
   "metadata": {},
   "outputs": [],
   "source": [
    "@app.callback(Output('change', 'figure'),\n",
    "              [Input('stockselector', 'value')])\n",
    "def update_change(selected_dropdown_value):\n",
    "    ''' Draw traces of the feature 'change' based one the currently selected stocks '''\n",
    "    trace = []\n",
    "    df_sub = df\n",
    "    # Draw and append traces for each stock\n",
    "    for stock in selected_dropdown_value:\n",
    "        trace.append(go.Scatter(x=df_sub[df_sub['stock'] == stock].index,\n",
    "                                 y=df_sub[df_sub['stock'] == stock]['change'],\n",
    "                                 mode='lines',\n",
    "                                 opacity=0.7,\n",
    "                                 name=stock,\n",
    "                                 textposition='bottom center'))\n",
    "    traces = [trace]\n",
    "    data = [val for sublist in traces for val in sublist]\n",
    "    # Define Figure\n",
    "    figure = {'data': data,\n",
    "              'layout': go.Layout(\n",
    "                  colorway=[\"#5E0DAC\", '#FF4F00', '#375CB1', '#FF7400', '#FFF400', '#FF0056'],\n",
    "                  template='plotly_dark',\n",
    "                  paper_bgcolor='rgba(0, 0, 0, 0)',\n",
    "                  plot_bgcolor='rgba(0, 0, 0, 0)',\n",
    "                  margin={'t': 50},\n",
    "                  height=250,\n",
    "                  hovermode='x',\n",
    "                  autosize=True,\n",
    "                  title={'text': 'Daily Change', 'font': {'color': 'white'}, 'x': 0.5},\n",
    "                  xaxis={'showticklabels': False, 'range': [df_sub.index.min(), df_sub.index.max()]},\n",
    "              ),\n",
    "              }\n",
    "\n",
    "    return figure"
   ]
  },
  {
   "cell_type": "code",
   "execution_count": 25,
   "metadata": {},
   "outputs": [
    {
     "name": "stdout",
     "output_type": "stream",
     "text": [
      "Dash is running on http://127.0.0.1:8050/\n",
      "\n",
      " Warning: This is a development server. Do not use app.run_server\n",
      " in production, use a production WSGI server like gunicorn instead.\n",
      "\n",
      " * Serving Flask app \"__main__\" (lazy loading)\n",
      " * Environment: production\n",
      "   WARNING: This is a development server. Do not use it in a production deployment.\n",
      "   Use a production WSGI server instead.\n",
      " * Debug mode: on\n"
     ]
    }
   ],
   "source": [
    "if __name__ == '__main__':\n",
    "    #app.run_server(debug=True)\n",
    "    app.run_server(debug=True, use_reloader=False)"
   ]
  },
  {
   "cell_type": "code",
   "execution_count": null,
   "metadata": {},
   "outputs": [],
   "source": []
  }
 ],
 "metadata": {
  "kernelspec": {
   "display_name": "Python 3",
   "language": "python",
   "name": "python3"
  },
  "language_info": {
   "codemirror_mode": {
    "name": "ipython",
    "version": 3
   },
   "file_extension": ".py",
   "mimetype": "text/x-python",
   "name": "python",
   "nbconvert_exporter": "python",
   "pygments_lexer": "ipython3",
   "version": "3.7.6"
  }
 },
 "nbformat": 4,
 "nbformat_minor": 4
}
